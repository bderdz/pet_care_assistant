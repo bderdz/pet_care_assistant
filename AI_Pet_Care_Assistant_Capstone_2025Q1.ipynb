{
  "metadata": {
    "kernelspec": {
      "display_name": "Python 3",
      "language": "python",
      "name": "python3"
    },
    "language_info": {
      "name": "python",
      "version": "3.11.11",
      "mimetype": "text/x-python",
      "codemirror_mode": {
        "name": "ipython",
        "version": 3
      },
      "pygments_lexer": "ipython3",
      "nbconvert_exporter": "python",
      "file_extension": ".py"
    },
    "kaggle": {
      "accelerator": "none",
      "dataSources": [
        {
          "sourceId": 97258,
          "sourceType": "competition"
        }
      ],
      "isInternetEnabled": true,
      "language": "python",
      "sourceType": "notebook",
      "isGpuEnabled": false
    },
    "colab": {
      "provenance": [],
      "include_colab_link": true
    }
  },
  "nbformat_minor": 0,
  "nbformat": 4,
  "cells": [
    {
      "cell_type": "markdown",
      "metadata": {
        "id": "view-in-github",
        "colab_type": "text"
      },
      "source": [
        "<a href=\"https://colab.research.google.com/github/bderdz/pet_care_assistant/blob/main/AI_Pet_Care_Assistant_Capstone_2025Q1.ipynb\" target=\"_parent\"><img src=\"https://colab.research.google.com/assets/colab-badge.svg\" alt=\"Open In Colab\"/></a>"
      ]
    },
    {
      "source": [
        "# IMPORTANT: SOME KAGGLE DATA SOURCES ARE PRIVATE\n",
        "# RUN THIS CELL IN ORDER TO IMPORT YOUR KAGGLE DATA SOURCES.\n",
        "import kagglehub\n",
        "kagglehub.login()\n"
      ],
      "metadata": {
        "id": "3tNng6-HCREP"
      },
      "cell_type": "code",
      "outputs": [],
      "execution_count": null
    },
    {
      "source": [
        "# IMPORTANT: RUN THIS CELL IN ORDER TO IMPORT YOUR KAGGLE DATA SOURCES,\n",
        "# THEN FEEL FREE TO DELETE THIS CELL.\n",
        "# NOTE: THIS NOTEBOOK ENVIRONMENT DIFFERS FROM KAGGLE'S PYTHON\n",
        "# ENVIRONMENT SO THERE MAY BE MISSING LIBRARIES USED BY YOUR\n",
        "# NOTEBOOK.\n",
        "\n",
        "gen_ai_intensive_course_capstone_2025q1_path = kagglehub.competition_download('gen-ai-intensive-course-capstone-2025q1')\n",
        "\n",
        "print('Data source import complete.')\n"
      ],
      "metadata": {
        "id": "TucbFtBPCREQ"
      },
      "cell_type": "code",
      "outputs": [],
      "execution_count": null
    },
    {
      "cell_type": "markdown",
      "source": [
        "# AI Pet Care Assistant"
      ],
      "metadata": {
        "collapsed": false,
        "id": "rPGtwN6SesXw",
        "jupyter": {
          "outputs_hidden": false
        }
      }
    },
    {
      "cell_type": "markdown",
      "source": [
        "### 🔎 Introduction\n",
        "As a pet owner, I know how hard is it to rise and care for an animal. There were situations that i wish someone/something would explain me how to do it. So i came up with an idea to make an AI Pet Care Assistant. Which can generate diet, activity, health care plan and answer for your questions about your pet. All based on your pet profile that you give to the Assistant and additional documents about pets (RAG) or also by using Google Search grounding.\n",
        "\n",
        "### 🐾 Key Features\n",
        "- **Personalized Diet Recommendations** – based on pet species, age, weight, and health conditions\n",
        "- **Custom Activity Suggestions** – including exercise and playtime ideas tailored to the pet's needs\n",
        "- **Health Care Guidance** – covering preventive care, common issues, and regular routines\n",
        "- **Q&A Support** – get instant answers to pet-related questions\n",
        "- **Full Pet Care Plan Generation** – receive a complete, structured plan to help you care for your pet in the best possible way\n",
        "\n",
        "### ⚙️ Capabilites Used:\n",
        "- **Agent with LangGraph**\n",
        "- **Retrieval augmented generation (RAG)**\n",
        "- **Google Search Grounding**\n",
        "- **Structured output**\n"
      ],
      "metadata": {
        "id": "olITiY7fCRES"
      }
    },
    {
      "cell_type": "markdown",
      "source": [
        "## 🔨 Setting up"
      ],
      "metadata": {
        "collapsed": false,
        "id": "9WxUwJ0VesXu",
        "jupyter": {
          "outputs_hidden": false
        }
      }
    },
    {
      "cell_type": "code",
      "source": [
        "# Remove conflicting packages from the Kaggle base environment.\n",
        "!pip uninstall -qqy kfp jupyterlab libpysal thinc spacy fastai ydata-profiling google-cloud-bigquery google-generativeai\n",
        "# Install langgraph and the packages used in this lab.\n",
        "!pip install -qU 'langgraph==0.3.21' 'langchain-google-genai==2.1.2' 'langgraph-prebuilt==0.1.7' \"google-genai==1.7.0\" \"chromadb==0.6.3\""
      ],
      "metadata": {
        "id": "KTXHTFg-esXu",
        "outputId": "cd1e5574-c47c-4c2f-d55c-02df3b0b7a3c",
        "trusted": true,
        "colab": {
          "base_uri": "https://localhost:8080/"
        }
      },
      "outputs": [
        {
          "output_type": "stream",
          "name": "stdout",
          "text": [
            "\u001b[33mWARNING: Skipping kfp as it is not installed.\u001b[0m\u001b[33m\n",
            "\u001b[0m\u001b[33mWARNING: Skipping jupyterlab as it is not installed.\u001b[0m\u001b[33m\n",
            "\u001b[0m\u001b[33mWARNING: Skipping libpysal as it is not installed.\u001b[0m\u001b[33m\n",
            "\u001b[0m\u001b[33mWARNING: Skipping ydata-profiling as it is not installed.\u001b[0m\u001b[33m\n",
            "\u001b[2K     \u001b[90m━━━━━━━━━━━━━━━━━━━━━━━━━━━━━━━━━━━━━━━━\u001b[0m \u001b[32m67.3/67.3 kB\u001b[0m \u001b[31m3.0 MB/s\u001b[0m eta \u001b[36m0:00:00\u001b[0m\n",
            "\u001b[?25h  Installing build dependencies ... \u001b[?25l\u001b[?25hdone\n",
            "  Getting requirements to build wheel ... \u001b[?25l\u001b[?25hdone\n",
            "  Preparing metadata (pyproject.toml) ... \u001b[?25l\u001b[?25hdone\n",
            "\u001b[2K     \u001b[90m━━━━━━━━━━━━━━━━━━━━━━━━━━━━━━━━━━━━━━━━\u001b[0m \u001b[32m43.5/43.5 kB\u001b[0m \u001b[31m2.6 MB/s\u001b[0m eta \u001b[36m0:00:00\u001b[0m\n",
            "\u001b[2K   \u001b[90m━━━━━━━━━━━━━━━━━━━━━━━━━━━━━━━━━━━━━━━━\u001b[0m \u001b[32m138.0/138.0 kB\u001b[0m \u001b[31m5.9 MB/s\u001b[0m eta \u001b[36m0:00:00\u001b[0m\n",
            "\u001b[2K   \u001b[90m━━━━━━━━━━━━━━━━━━━━━━━━━━━━━━━━━━━━━━━━\u001b[0m \u001b[32m42.0/42.0 kB\u001b[0m \u001b[31m3.0 MB/s\u001b[0m eta \u001b[36m0:00:00\u001b[0m\n",
            "\u001b[2K   \u001b[90m━━━━━━━━━━━━━━━━━━━━━━━━━━━━━━━━━━━━━━━━\u001b[0m \u001b[32m144.7/144.7 kB\u001b[0m \u001b[31m10.1 MB/s\u001b[0m eta \u001b[36m0:00:00\u001b[0m\n",
            "\u001b[2K   \u001b[90m━━━━━━━━━━━━━━━━━━━━━━━━━━━━━━━━━━━━━━━━\u001b[0m \u001b[32m611.1/611.1 kB\u001b[0m \u001b[31m21.2 MB/s\u001b[0m eta \u001b[36m0:00:00\u001b[0m\n",
            "\u001b[2K   \u001b[90m━━━━━━━━━━━━━━━━━━━━━━━━━━━━━━━━━━━━━━━━\u001b[0m \u001b[32m2.4/2.4 MB\u001b[0m \u001b[31m63.6 MB/s\u001b[0m eta \u001b[36m0:00:00\u001b[0m\n",
            "\u001b[2K   \u001b[90m━━━━━━━━━━━━━━━━━━━━━━━━━━━━━━━━━━━━━━━━\u001b[0m \u001b[32m284.2/284.2 kB\u001b[0m \u001b[31m17.5 MB/s\u001b[0m eta \u001b[36m0:00:00\u001b[0m\n",
            "\u001b[2K   \u001b[90m━━━━━━━━━━━━━━━━━━━━━━━━━━━━━━━━━━━━━━━━\u001b[0m \u001b[32m95.2/95.2 kB\u001b[0m \u001b[31m6.7 MB/s\u001b[0m eta \u001b[36m0:00:00\u001b[0m\n",
            "\u001b[2K   \u001b[90m━━━━━━━━━━━━━━━━━━━━━━━━━━━━━━━━━━━━━━━━\u001b[0m \u001b[32m1.4/1.4 MB\u001b[0m \u001b[31m16.8 MB/s\u001b[0m eta \u001b[36m0:00:00\u001b[0m\n",
            "\u001b[2K   \u001b[90m━━━━━━━━━━━━━━━━━━━━━━━━━━━━━━━━━━━━━━━━\u001b[0m \u001b[32m2.0/2.0 MB\u001b[0m \u001b[31m70.2 MB/s\u001b[0m eta \u001b[36m0:00:00\u001b[0m\n",
            "\u001b[2K   \u001b[90m━━━━━━━━━━━━━━━━━━━━━━━━━━━━━━━━━━━━━━━━\u001b[0m \u001b[32m42.0/42.0 kB\u001b[0m \u001b[31m2.7 MB/s\u001b[0m eta \u001b[36m0:00:00\u001b[0m\n",
            "\u001b[2K   \u001b[90m━━━━━━━━━━━━━━━━━━━━━━━━━━━━━━━━━━━━━━━━\u001b[0m \u001b[32m47.2/47.2 kB\u001b[0m \u001b[31m3.1 MB/s\u001b[0m eta \u001b[36m0:00:00\u001b[0m\n",
            "\u001b[2K   \u001b[90m━━━━━━━━━━━━━━━━━━━━━━━━━━━━━━━━━━━━━━━━\u001b[0m \u001b[32m101.6/101.6 kB\u001b[0m \u001b[31m7.4 MB/s\u001b[0m eta \u001b[36m0:00:00\u001b[0m\n",
            "\u001b[2K   \u001b[90m━━━━━━━━━━━━━━━━━━━━━━━━━━━━━━━━━━━━━━━━\u001b[0m \u001b[32m16.0/16.0 MB\u001b[0m \u001b[31m76.7 MB/s\u001b[0m eta \u001b[36m0:00:00\u001b[0m\n",
            "\u001b[2K   \u001b[90m━━━━━━━━━━━━━━━━━━━━━━━━━━━━━━━━━━━━━━━━\u001b[0m \u001b[32m55.9/55.9 kB\u001b[0m \u001b[31m4.2 MB/s\u001b[0m eta \u001b[36m0:00:00\u001b[0m\n",
            "\u001b[2K   \u001b[90m━━━━━━━━━━━━━━━━━━━━━━━━━━━━━━━━━━━━━━━━\u001b[0m \u001b[32m89.1/89.1 kB\u001b[0m \u001b[31m6.1 MB/s\u001b[0m eta \u001b[36m0:00:00\u001b[0m\n",
            "\u001b[2K   \u001b[90m━━━━━━━━━━━━━━━━━━━━━━━━━━━━━━━━━━━━━━━━\u001b[0m \u001b[32m62.5/62.5 kB\u001b[0m \u001b[31m4.4 MB/s\u001b[0m eta \u001b[36m0:00:00\u001b[0m\n",
            "\u001b[2K   \u001b[90m━━━━━━━━━━━━━━━━━━━━━━━━━━━━━━━━━━━━━━━━\u001b[0m \u001b[32m194.8/194.8 kB\u001b[0m \u001b[31m12.9 MB/s\u001b[0m eta \u001b[36m0:00:00\u001b[0m\n",
            "\u001b[2K   \u001b[90m━━━━━━━━━━━━━━━━━━━━━━━━━━━━━━━━━━━━━━━━\u001b[0m \u001b[32m459.8/459.8 kB\u001b[0m \u001b[31m26.8 MB/s\u001b[0m eta \u001b[36m0:00:00\u001b[0m\n",
            "\u001b[2K   \u001b[90m━━━━━━━━━━━━━━━━━━━━━━━━━━━━━━━━━━━━━━━━\u001b[0m \u001b[32m223.6/223.6 kB\u001b[0m \u001b[31m14.3 MB/s\u001b[0m eta \u001b[36m0:00:00\u001b[0m\n",
            "\u001b[2K   \u001b[90m━━━━━━━━━━━━━━━━━━━━━━━━━━━━━━━━━━━━━━━━\u001b[0m \u001b[32m72.0/72.0 kB\u001b[0m \u001b[31m5.6 MB/s\u001b[0m eta \u001b[36m0:00:00\u001b[0m\n",
            "\u001b[2K   \u001b[90m━━━━━━━━━━━━━━━━━━━━━━━━━━━━━━━━━━━━━━━━\u001b[0m \u001b[32m4.0/4.0 MB\u001b[0m \u001b[31m87.0 MB/s\u001b[0m eta \u001b[36m0:00:00\u001b[0m\n",
            "\u001b[2K   \u001b[90m━━━━━━━━━━━━━━━━━━━━━━━━━━━━━━━━━━━━━━━━\u001b[0m \u001b[32m454.8/454.8 kB\u001b[0m \u001b[31m30.0 MB/s\u001b[0m eta \u001b[36m0:00:00\u001b[0m\n",
            "\u001b[2K   \u001b[90m━━━━━━━━━━━━━━━━━━━━━━━━━━━━━━━━━━━━━━━━\u001b[0m \u001b[32m46.0/46.0 kB\u001b[0m \u001b[31m3.2 MB/s\u001b[0m eta \u001b[36m0:00:00\u001b[0m\n",
            "\u001b[2K   \u001b[90m━━━━━━━━━━━━━━━━━━━━━━━━━━━━━━━━━━━━━━━━\u001b[0m \u001b[32m86.8/86.8 kB\u001b[0m \u001b[31m6.5 MB/s\u001b[0m eta \u001b[36m0:00:00\u001b[0m\n",
            "\u001b[?25h  Building wheel for pypika (pyproject.toml) ... \u001b[?25l\u001b[?25hdone\n"
          ]
        }
      ],
      "execution_count": null
    },
    {
      "cell_type": "markdown",
      "source": [
        "#### API key"
      ],
      "metadata": {
        "collapsed": false,
        "id": "A7HDcZ0cesXv",
        "jupyter": {
          "outputs_hidden": false
        }
      }
    },
    {
      "cell_type": "code",
      "source": [
        "import os\n",
        "# from kaggle_secrets import UserSecretsClient\n",
        "from google.colab import userdata\n",
        "GOOGLE_API_KEY = userdata.get(\"GOOGLE_API_KEY\")\n",
        "os.environ[\"GOOGLE_API_KEY\"] = GOOGLE_API_KEY"
      ],
      "metadata": {
        "id": "ZQlN_GQsesXv",
        "trusted": true
      },
      "outputs": [],
      "execution_count": null
    },
    {
      "cell_type": "code",
      "source": [
        "from google import genai\n",
        "client = genai.Client(api_key=GOOGLE_API_KEY)"
      ],
      "metadata": {
        "id": "GVTkRHUx6z95",
        "trusted": true
      },
      "outputs": [],
      "execution_count": null
    },
    {
      "cell_type": "markdown",
      "source": [
        "#### Automated retry"
      ],
      "metadata": {
        "id": "-7OyNTWMI5rV"
      }
    },
    {
      "cell_type": "code",
      "source": [
        "from google.api_core import retry\n",
        "\n",
        "is_retriable = lambda e: (isinstance(e, genai.errors.APIError) and e.code in {429, 503})\n",
        "\n",
        "if not hasattr(genai.models.Models.generate_content, '__wrapped__'):\n",
        "  genai.models.Models.generate_content = retry.Retry(\n",
        "      predicate=is_retriable)(genai.models.Models.generate_content)"
      ],
      "metadata": {
        "id": "gO37Zc-aI5IT",
        "trusted": true
      },
      "outputs": [],
      "execution_count": null
    },
    {
      "cell_type": "markdown",
      "source": [
        "## RAG\n",
        "This section implements the core logic of the assistant using a Retrieval-Augmented Generation (RAG).\n",
        "\n",
        "I use a few documents includes information about diets for cats and dogs, activities and health care to create an embedding database.\n",
        "_If Agent didnt find information in this documents he will use google search grounding to answer the question_"
      ],
      "metadata": {
        "id": "vy3Bpb8DGbXV"
      }
    },
    {
      "cell_type": "code",
      "source": [
        "# Cat diet\n",
        "DOCUMENT1 = \"\"\"\n",
        "Adult domestic cats require on average 50 to 70 kilocalories per kilogram of body weight per day. A healthy intact adult cat weighing 4.5 kg will typically need 225 to 315 kcal per day, depending on activity level and environment. Neutered cats require less energy due to lower metabolic rate. For a neutered cat of the same weight, the daily caloric requirement is approximately 180 to 220 kcal.\n",
        "Neutered cats are at higher risk of obesity and urinary tract problems. Their diet should include high protein (at least 35% of dry matter), moderate fat (10–15%), and reduced energy density. Commercial diets for neutered cats often provide 300–350 kcal per 100g for dry food and around 80–100 kcal per 100g for wet food. Feeding guidelines should follow manufacturer recommendations, adjusted for individual condition and activity.\n",
        "Non-neutered cats with access to the outdoors may require higher energy intake, up to 300 kcal/day for a 4.5 kg cat. Their diet should remain rich in animal protein (above 30% dry matter), with fat content around 15–20%, and limited carbohydrates (<10%). These cats benefit from a mix of wet and dry food, or high-quality raw diets formulated to meet FEDIAF or AAFCO standards.\n",
        "Feeding frequency for adult cats should be 2 to 3 times per day. Free feeding is discouraged for neutered indoor cats due to the risk of overeating. Kittens up to 6 months should be fed 3–4 times daily with energy-dense food (up to 100 kcal per kg body weight). Senior cats (above 10 years) often require adjusted diets with reduced phosphorus and added omega-3 for kidney and joint health.\n",
        "Water intake is critical. Daily water requirement is about 40–60 ml per kilogram of body weight. For a 4.5 kg cat, this equals 180–270 ml daily. Wet food typically contains 70–80% moisture, providing hydration as part of the diet. For cats eating dry food (7–10% moisture), additional water must be provided. Cats often prefer running water; a fountain can increase fluid intake.\n",
        "Essential nutrients include taurine (minimum 25 mg/100 kcal), arachidonic acid, vitamin A (not beta-carotene), and niacin. Deficiencies in these nutrients lead to severe health issues. Commercial diets should comply with FEDIAF or AAFCO nutritional profiles. Home-prepared or raw diets must be balanced with professional guidance to avoid deficiencies or excesses.\n",
        "Obesity prevention includes body condition scoring, meal control, and activity enrichment. Puzzle feeders and scheduled play (at least 15–20 minutes daily) help stimulate activity. For overweight neutered cats, caloric restriction to 70–80% of maintenance energy needs may be necessary, under veterinary supervision. Gradual weight loss (1–2% per week) is recommended.\n",
        "Treats should not exceed 10% of daily caloric intake. Avoid toxic human foods such as onions, garlic, chocolate, grapes, raisins, alcohol, caffeine, and bones. Milk and dairy often cause gastrointestinal upset due to lactose intolerance. Raw fish or liver should only be given in moderation and properly handled.\n",
        "\"\"\"\n",
        "# Dog diet\n",
        "DOCUMENT2 = \"\"\"\n",
        "Adult dogs require between 95 to 130 kilocalories per kilogram of metabolic body weight (kg^0.75) per day. The specific caloric needs vary depending on size, breed, activity level, and neuter status. For example, a 20 kg neutered adult dog with moderate activity may need around 800 to 950 kcal/day, while an intact working dog of the same weight may require 1,100 to 1,400 kcal/day.\n",
        "Neutered dogs typically have reduced energy needs (by 20–25%) due to hormonal changes affecting metabolism and appetite regulation. To prevent obesity, caloric intake should be adjusted accordingly. Diets for neutered dogs should be lower in fat (8–12% dry matter), high in digestible protein (above 22–25% dry matter), and include fiber (2.5–5%) to promote satiety.\n",
        "Feeding frequency should be 2 meals per day for most adult dogs. Smaller breeds with high metabolic rates may benefit from 3 meals. Large and deep-chested breeds are prone to gastric torsion (bloat), so feeding should be divided into multiple smaller meals with rest before and after.\n",
        "Water is essential, with dogs needing about 50–60 ml per kilogram of body weight per day. A 20 kg dog should consume 1–1.2 liters daily. Wet food (75–80% moisture) contributes to hydration; dry food (8–10%) requires access to clean water at all times. Increased water intake is necessary in hot climates or for active dogs.\n",
        "Dry food (kibble) typically provides 350–450 kcal per 100g, while wet food delivers 70–100 kcal per 100g. Portioning should consider not just weight but also activity and condition. Overfeeding dry kibble is a common cause of weight gain in indoor or low-exercise dogs.\n",
        "Macronutrient recommendations for adult maintenance diets:\n",
        "- Protein: 18–25% (dry matter); higher for active or athletic dogs\n",
        "- Fat: 8–15% (dry matter); active dogs may require up to 20%\n",
        "- Carbohydrates: 30–50% (dry matter), including digestible starches and fiber\n",
        "- Fiber: 2–5%; moderate levels support digestive health\n",
        "Essential micronutrients include calcium (1–2%), phosphorus (0.8–1.6%), vitamin E (minimum 50 IU/kg), vitamin D (minimum 500 IU/kg), B-vitamins, and omega-3 fatty acids (e.g., DHA and EPA from fish oil). Commercial foods formulated to AAFCO or FEDIAF standards provide these in adequate proportions.\n",
        "Obesity is one of the most common nutritional disorders in dogs. Weight gain should be prevented through portion control, use of low-calorie treats (not exceeding 10% of daily calories), and daily exercise (at least 30 minutes of walking or play). Weight loss protocols typically reduce energy intake to 70% of maintenance needs, with regular monitoring of body condition score (BCS).\n",
        "Dogs with medical conditions (e.g., diabetes, kidney disease, food allergies) require specialized diets. Veterinary therapeutic diets are formulated for these cases and should be used under supervision. Transitioning to a new diet should be gradual, over 5–7 days, to avoid gastrointestinal upset.\n",
        "Homemade or raw diets must be nutritionally complete and balanced. Common deficiencies in DIY diets include calcium, vitamin D, and zinc. All homemade feeding should be based on veterinary-approved recipes and ideally monitored with periodic bloodwork.\n",
        "Dangerous foods for dogs include chocolate, onions, garlic, grapes, raisins, alcohol, caffeine, xylitol, and cooked bones. High-fat table scraps can cause pancreatitis. Dairy is poorly tolerated in some adult dogs. Treats such as jerky or biscuits should be carefully portioned to avoid excess calorie intake.\n",
        "Monitoring stool quality, coat condition, and weight provides early indicators of dietary sufficiency. Adjustments should be based on regular assessment and guided by a veterinarian or certified nutritionist.\n",
        "\"\"\"\n",
        "# Dog Activity by Age and Breed\n",
        "DOCUMENT3 = \"\"\"\n",
        "Dogs require daily physical exercise to maintain their health. Regular physical activity is essential to prevent obesity, promote good cardiovascular health, and reduce anxiety. The level of activity depends on the breed, age, and health of the dog.\n",
        "For highly active breeds, such as Border Collies, Huskies, and Labrador Retrievers, vigorous exercise is necessary. These breeds thrive on activities like Long runs, Fetch, Agility training, Herding or pulling activities (for working breeds).\n",
        "Less active breeds, such as Bulldogs, Pugs, and Dachshunds, require less intense exercise. Daily walks are still important, but these dogs do not require as much vigorous activity. Shorter walks or playtime in a small yard may be sufficient.\n",
        "Puppies generally have a lot of energy and need more frequent play and shorter walks, while senior dogs may need more rest. It is important to adjust the level of activity according to the dog’s age and health.\n",
        "Mental stimulation is also important. Dogs enjoy problem-solving, sniffing, training, and exploring new places. Without exercise, dogs may become destructive, anxious, or overweight.\n",
        "Dogs benefit from a mix of mental and physical stimulation. Puzzle toys, obedience training, and interactive games are good for keeping a dog’s mind engaged.\n",
        "\"\"\"\n",
        "# Animal health\n",
        "DOCUMENT4 = \"\"\"\n",
        "Preventive health care is essential for pets to live long and healthy lives. Regular veterinary check-ups should be scheduled annually to monitor your pet’s health and to catch any potential issues early.\n",
        "Vaccinations are important for protecting pets from serious diseases. Common vaccinations for dogs include:\n",
        "- Rabies.\n",
        "- Parvovirus.\n",
        "- Distemper.\n",
        "- Leptospirosis.\n",
        "- Bordetella (Kennel Cough).\n",
        "For cats, common vaccines include:\n",
        "- Rabies.\n",
        "- Feline distemper (panleukopenia).\n",
        "- Feline herpesvirus.\n",
        "- Feline calicivirus.\n",
        "Parasite prevention is also important for both cats and dogs. Regular flea and tick treatments, as well as heartworm prevention, should be used year-round, depending on the region.\n",
        "Signs that an animal may be unwell include:\n",
        "- A change in appetite (either an increase or decrease).\n",
        "- Excessive drinking or urination.\n",
        "- Lethargy or sudden changes in behavior.\n",
        "- Coughing, sneezing, or difficulty breathing.\n",
        "- Vomiting or diarrhea.\n",
        "- Changes in the coat, such as hair loss, redness, or itching.\n",
        "If any of these symptoms persist for more than 48 hours, a visit to the veterinarian is recommended.\n",
        "\"\"\"\n",
        "\n",
        "documents = [DOCUMENT1, DOCUMENT2, DOCUMENT3, DOCUMENT4]"
      ],
      "metadata": {
        "id": "PIu7vB59v9Mq",
        "trusted": true
      },
      "outputs": [],
      "execution_count": null
    },
    {
      "cell_type": "markdown",
      "source": [
        "### ChromaDB embedding database\n",
        "The Chroma vector database is used to store and index document embeddings, allowing fast and accurate similarity searches."
      ],
      "metadata": {
        "id": "Qz8i5XER6hIt"
      }
    },
    {
      "cell_type": "code",
      "source": [
        "from chromadb import Documents, EmbeddingFunction, Embeddings\n",
        "from google.genai import types\n",
        "\n",
        "\n",
        "class GeminiEmbeddingFunction(EmbeddingFunction):\n",
        "    document_mode = True\n",
        "\n",
        "    @retry.Retry(predicate=is_retriable)\n",
        "    def __call__(self, input: Documents) -> Embeddings:\n",
        "        if self.document_mode:\n",
        "            embedding_task = \"retrieval_document\"\n",
        "        else:\n",
        "            embedding_task = \"retrieval_query\"\n",
        "\n",
        "        response = client.models.embed_content(\n",
        "            model=\"models/text-embedding-004\",\n",
        "            contents=input,\n",
        "            config=types.EmbedContentConfig(\n",
        "                task_type=embedding_task,\n",
        "            ),\n",
        "        )\n",
        "        return [e.values for e in response.embeddings]"
      ],
      "metadata": {
        "id": "dyIyr-m2lQdV",
        "trusted": true
      },
      "outputs": [],
      "execution_count": null
    },
    {
      "cell_type": "markdown",
      "source": [
        "\n",
        "Initialization Chroma vector database with Client and generating vector embeddings with `GeminiEmbeddingFunction()` embedding function for documents\n"
      ],
      "metadata": {
        "id": "X_St-3TMCREU"
      }
    },
    {
      "cell_type": "code",
      "source": [
        "import chromadb\n",
        "\n",
        "DB_NAME = \"petcaredb\"\n",
        "\n",
        "embed_func = GeminiEmbeddingFunction()\n",
        "embed_func.document_mode = True\n",
        "\n",
        "chroma_client = chromadb.Client()\n",
        "db = chroma_client.get_or_create_collection(name=DB_NAME, embedding_function=embed_func)\n",
        "\n",
        "db.add(documents=documents, ids=[str(i) for i in range(len(documents))])"
      ],
      "metadata": {
        "id": "DwpDQsMvq3gE",
        "outputId": "bac51628-8149-41d5-e980-6682b789a4d7",
        "trusted": true,
        "colab": {
          "base_uri": "https://localhost:8080/"
        }
      },
      "outputs": [
        {
          "output_type": "stream",
          "name": "stderr",
          "text": [
            "WARNING:chromadb.segment.impl.vector.local_hnsw:Add of existing embedding ID: 0\n",
            "WARNING:chromadb.segment.impl.vector.local_hnsw:Add of existing embedding ID: 1\n",
            "WARNING:chromadb.segment.impl.vector.local_hnsw:Add of existing embedding ID: 2\n",
            "WARNING:chromadb.segment.impl.vector.local_hnsw:Add of existing embedding ID: 3\n",
            "WARNING:chromadb.segment.impl.metadata.sqlite:Insert of existing embedding ID: 0\n",
            "WARNING:chromadb.segment.impl.metadata.sqlite:Insert of existing embedding ID: 1\n",
            "WARNING:chromadb.segment.impl.metadata.sqlite:Insert of existing embedding ID: 2\n",
            "WARNING:chromadb.segment.impl.metadata.sqlite:Insert of existing embedding ID: 3\n"
          ]
        }
      ],
      "execution_count": null
    },
    {
      "cell_type": "markdown",
      "source": [
        "**Helper function for RAG prompt**\n",
        "\n",
        "This function returns prepared prompt for RAG augmentation. It connects query with passages and output rules"
      ],
      "metadata": {
        "id": "g__D4K8fCREU"
      }
    },
    {
      "cell_type": "code",
      "source": [
        "from typing import List\n",
        "\n",
        "output_rules = \"\"\"\n",
        "When answering, follow these strict rules:\n",
        "    If user ask you about diet, activity, health care plan or other care question answer as a structured list guide for user.\n",
        "    Divide text to lists and newlines, to divide topics use two newlines.\n",
        "    DO NOT use any introductions, explanations, disclaimers, or polite expressions.\n",
        "    DO NOT say things like 'Here is...', 'I can help you...', 'It is important to...' etc.\n",
        "    DO NOT use markdown formatting such as *, bold, italic, or bullet points.\n",
        "\"\"\"\n",
        "\n",
        "# Helper function for preparation RAG augmentation prompt\n",
        "def pack_rag_prompt(query: str, passages: List[str]) -> str:\n",
        "    query_oneline = query.replace(\"\\n\", \" \")\n",
        "\n",
        "    prompt = f\"\"\"You are a helpful and informative bot that answers questions using text from the reference passage included below.\n",
        "    Be sure to respond in a complete sentence, being comprehensive, including all relevant background information.\n",
        "    However, you are talking to a non-technical audience, so be sure to break down complicated concepts and\n",
        "    strike a friendly and converstional tone. If the passage is irrelevant to the answer, you may ignore it.\n",
        "    {output_rules}\n",
        "    if any passage dont match to question return NOT FOUND\n",
        "\n",
        "    QUESTION: {query_oneline}\n",
        "    \"\"\"\n",
        "\n",
        "    for passage in passages:\n",
        "        passage_oneline = passage.replace(\"\\n\", \" \")\n",
        "        prompt += f\"PASSAGE: {passage_oneline}\\n\"\n",
        "\n",
        "    return prompt"
      ],
      "metadata": {
        "id": "6yPrD-rPtNCD",
        "trusted": true
      },
      "outputs": [],
      "execution_count": null
    },
    {
      "cell_type": "markdown",
      "source": [
        "## 🤖 LangGraph Agent"
      ],
      "metadata": {
        "collapsed": false,
        "id": "GSNOjCKXesXw",
        "jupyter": {
          "outputs_hidden": false
        }
      }
    },
    {
      "cell_type": "code",
      "source": [
        "from langgraph.graph import StateGraph, START, END\n",
        "from langchain_google_genai import ChatGoogleGenerativeAI\n",
        "\n",
        "llm = ChatGoogleGenerativeAI(model=\"gemini-2.0-flash\")"
      ],
      "metadata": {
        "id": "7fPH_GRjesXx",
        "trusted": true
      },
      "outputs": [],
      "execution_count": null
    },
    {
      "cell_type": "markdown",
      "source": [
        "Definition of graph state - `PetState` and basic graph state data structures"
      ],
      "metadata": {
        "id": "pLz9Io-SCREU"
      }
    },
    {
      "cell_type": "code",
      "source": [
        "from typing_extensions import TypedDict\n",
        "from langgraph.graph.message import add_messages\n",
        "from pydantic import BaseModel\n",
        "from typing import Optional, Annotated\n",
        "\n",
        "# Pet profile dict\n",
        "class PetProfile(BaseModel):\n",
        "    species: str\n",
        "    breed: str\n",
        "    age: int\n",
        "    name: str\n",
        "    weight: float\n",
        "    gender: str\n",
        "    neutered: bool\n",
        "    activity_level: str\n",
        "    health_conditions: Optional[List[str]] = []\n",
        "    notes: str\n",
        "\n",
        "# Pet profile with optional values for updating specific fields\n",
        "class PetProfileUpdate(BaseModel):\n",
        "    species: Optional[str] = None\n",
        "    breed: Optional[str] = None\n",
        "    age: Optional[int] = None\n",
        "    name: Optional[str] = None\n",
        "    weight: Optional[float] = None\n",
        "    gender: Optional[str] = None\n",
        "    neutered: Optional[bool] = None\n",
        "    activity_level: Optional[str] = None\n",
        "    health_conditions: Optional[List[str]] = []\n",
        "    notes: Optional[str] = None\n",
        "\n",
        "class Care(BaseModel):\n",
        "    diet: Optional[str] = None\n",
        "    health: Optional[str] = None\n",
        "    activity: Optional[str] = None\n",
        "    suggestions: Optional[str] = None\n",
        "\n",
        "class PetState(TypedDict):\n",
        "    '''State representing conversation about user's pet'''\n",
        "    messages: Annotated[list, add_messages]\n",
        "    pet_profile: dict\n",
        "    care: dict\n",
        "    finished: bool"
      ],
      "metadata": {
        "id": "2ddW37OtesXw",
        "trusted": true
      },
      "outputs": [],
      "execution_count": null
    },
    {
      "cell_type": "markdown",
      "source": [
        "Agent system instructions"
      ],
      "metadata": {
        "id": "mAOaSk45CREV"
      }
    },
    {
      "cell_type": "code",
      "source": [
        "# The system instruction for chatbot\n",
        "ASSISTANT_SYSINT = (\n",
        "    \"system\",\n",
        "    \"\"\"You are a Pet Care Assistant Bot. Your goal is to help users create a personalized care plan for their pet, including diet, health care, physical activity, play, and other advice.\n",
        "Before making any recommendations, you must have a complete pet profile.\n",
        "When a user describes their pet in natural language, your task is to:\n",
        "1. Extract all available information into the following structure:\n",
        "    species: str\n",
        "    breed: str\n",
        "    age: int\n",
        "    name: str\n",
        "    weight: float\n",
        "    gender: str\n",
        "    neutered: bool\n",
        "    activity_level: str\n",
        "    health_conditions: List[str]\n",
        "    notes: str\n",
        "2. If this is the first profile provided, call the tool: set_profile.\n",
        "If any required field is missing (age, weight, or species), ask the user specifically for that missing information.\n",
        "If a profile already exists and the user provides updates (new weight, age, etc.), call update_profile with only the changed fields.\n",
        "\n",
        "Once the profile is complete, you may proceed with personalized recommendations or other tasks.\n",
        "\n",
        "If the user wants help with a diet, health, or activity plan, call the care_guide_search tool with a query that includes their question and the current {pet_profile}. (The tool's result is shown to you, not the user.)\n",
        "If care_guide_search returns 'NOT FOUND', or the user's question is about something else, call care_google_search with the query appending {pet_profile} for context if it needed. (The tool's result is shown to you, not the user.)\n",
        "After retrieve result from search tools call update_care for result value with key from care object structure:\n",
        "{\n",
        "    diet: Optional[str] = None\n",
        "    health: Optional[str] = None\n",
        "    activity: Optional[str] = None\n",
        "    suggestions: Optional[str] = None\n",
        "}\n",
        "\n",
        "You must not generate your own advice or recommendations about pet care. Use only retrieve text from tools and state.\n",
        "All care suggestions — including diets, health tips, activity plans, or other advice — must come from the results of tools such as care_guide_search or care_google_search, you must present it to the user exactly as it is, without rephrasing, summarizing, or interpreting the text. Do not change formatting, do not add commentary, and do not omit any parts. Show the tool output as-is.\n",
        "Stay strictly within the context of pet care. Do not use markdown formatting such as asterisks (*), bold, italic, or bullet points. Respond in plain text using only newline characters for structure.\n",
        "If the user asks to view, show, list, or display their care notes, care plan, profile, or any saved data, DO NOT call any tools.\n",
        "Instead, directly retrieve and show the current values from internal state.\n",
        "Return them as a plain key: value list.\n",
        "Only use tools when user is asking for help, recommendations, updates, or external information.\n",
        "\n",
        "If the user asks for a summary of the care plan, return the current care data from internal state as a structured text.\n",
        "Format the response like this:\n",
        "Your Pet Profile:\n",
        "{pet_profile}(key: value list)\n",
        "\n",
        "Diet:\n",
        "{care[diet]}\n",
        "\n",
        "Health:\n",
        "{care[health]}\n",
        "\n",
        "Activity:\n",
        "{care[activity]}\n",
        "\n",
        "Suggestions:\n",
        "{care[suggestions]}\n",
        "\n",
        "Do not add any explanations or introductory sentences.\n",
        "Do not change text.\n",
        "Do not call tools.\n",
        "Only return what is currently stored in care state and pet_profile.\n",
        "If a section is empty or None, skip it and title.\n",
        "\"\"\"\n",
        ")\n",
        "\n",
        "WELCOME_MSG = \"Hi, I’m Pet Care Assistant Bot (Type ‘q’ to quit).\\nPlease tell me about your pet and I’ll help you create a personalized care plan and suggestions to keep them happy and healthy!\""
      ],
      "metadata": {
        "id": "hzOq4fljtEo-",
        "trusted": true
      },
      "outputs": [],
      "execution_count": null
    },
    {
      "cell_type": "markdown",
      "source": [
        "### Nodes, Routes and Tools"
      ],
      "metadata": {
        "id": "F6_PoYZN9ole"
      }
    },
    {
      "cell_type": "markdown",
      "source": [
        "`Human node` responsible for receiving user question and printing chatbot response"
      ],
      "metadata": {
        "id": "kkQ0HJksCREV"
      }
    },
    {
      "cell_type": "code",
      "source": [
        "from langchain_core.messages.ai import AIMessage\n",
        "\n",
        "def human_node(state: PetState) -> PetState:\n",
        "    last_msg = state[\"messages\"][-1]\n",
        "    print(\"Model:\", last_msg.content)\n",
        "\n",
        "    user_input = input(\"User: \")\n",
        "\n",
        "    if user_input in {\"q\", \"quit\", \"exit\", \"goodbye\", \"bye\"}:\n",
        "        state[\"finished\"] = True\n",
        "\n",
        "    return state | {\"messages\": [(\"user\", user_input)]}"
      ],
      "metadata": {
        "id": "8jVjMti4esXx",
        "trusted": true
      },
      "outputs": [],
      "execution_count": null
    },
    {
      "cell_type": "markdown",
      "source": [
        "`Exit route` helps to navigate between ending session and returning to conversation with chatbot"
      ],
      "metadata": {
        "id": "3kf63S9SCREV"
      }
    },
    {
      "cell_type": "code",
      "source": [
        "from typing import Literal\n",
        "\n",
        "def exit_route(state: PetState) -> Literal[\"chatbot\", \"__end__\"]:\n",
        "    if state.get(\"finished\", False):\n",
        "        return END\n",
        "    else:\n",
        "        return \"chatbot\""
      ],
      "metadata": {
        "id": "A0mHCwHM9tL0",
        "trusted": true
      },
      "outputs": [],
      "execution_count": null
    },
    {
      "cell_type": "markdown",
      "source": [
        "#### Pet profile tools"
      ],
      "metadata": {
        "id": "VgQnu6AWCREV"
      }
    },
    {
      "cell_type": "code",
      "source": [
        "from langchain_core.tools import tool\n",
        "from langchain_core.messages.tool import ToolMessage\n",
        "\n",
        "@tool\n",
        "def set_profile(profile: PetProfile) -> str:\n",
        "    \"\"\"Creates a pet profile based on the provided information.\n",
        "    Generates a profile for a pet, including their species, breed, age, weight, gender, neutered status,\n",
        "    activity level, health conditions, and any additional notes.\n",
        "    \"\"\"\n",
        "\n",
        "@tool\n",
        "def update_profile(update: PetProfileUpdate) -> str:\n",
        "    \"\"\"Updates specific fields in an existing pet profile.\n",
        "    This function takes a list of dictionaries, where each dictionary contains the field key and its new value,\n",
        "    \"\"\"\n",
        "\n",
        "@tool\n",
        "def update_care(update: Care) -> str:\n",
        "    \"\"\"Updates fields in care state dictionary\"\"\""
      ],
      "metadata": {
        "id": "N2iQK1rUzjqj",
        "trusted": true
      },
      "outputs": [],
      "execution_count": null
    },
    {
      "cell_type": "markdown",
      "source": [
        "#### RAG & Google Search Grounding tools"
      ],
      "metadata": {
        "id": "wdIQuiFACREV"
      }
    },
    {
      "cell_type": "code",
      "source": [
        "@tool\n",
        "def care_guide_search(query: str) -> str:\n",
        "    \"\"\"Answers pet care questions using RAG over internal documents.\n",
        "    Returns 'NOT FOUND' if no documents match the query.\n",
        "    \"\"\"\n",
        "    embed_func.document_mode = False\n",
        "\n",
        "    result = db.query(query_texts=[query], n_results=1)\n",
        "    [all_passages] = result[\"documents\"]\n",
        "\n",
        "    answer = client.models.generate_content(\n",
        "        model=\"gemini-2.0-flash\",\n",
        "        contents=pack_rag_prompt(query, all_passages))\n",
        "\n",
        "    return answer.text"
      ],
      "metadata": {
        "trusted": true,
        "id": "n4OUEeyaCREV"
      },
      "outputs": [],
      "execution_count": null
    },
    {
      "cell_type": "code",
      "source": [
        "@tool\n",
        "def care_google_search(query: str) -> str:\n",
        "    \"\"\"Answers questions using google search grounding.\"\"\"\n",
        "    config_with_search = types.GenerateContentConfig(\n",
        "        tools=[types.Tool(google_search=types.GoogleSearch())],\n",
        "        temperature=0.2)\n",
        "\n",
        "    query += \"\\n\".join(output_rules)\n",
        "    response = client.models.generate_content(\n",
        "        model='gemini-2.0-flash',\n",
        "        contents=query,\n",
        "        config=config_with_search)\n",
        "\n",
        "    answer = \"\"\n",
        "    for part in response.candidates[0].content.parts:\n",
        "        answer += part.text\n",
        "\n",
        "    return answer"
      ],
      "metadata": {
        "trusted": true,
        "id": "zotsgjhACREV"
      },
      "outputs": [],
      "execution_count": null
    },
    {
      "cell_type": "markdown",
      "source": [
        "`Pet node` handle calling profile tools, modify and return state"
      ],
      "metadata": {
        "id": "86GvCEJ0CREV"
      }
    },
    {
      "cell_type": "code",
      "source": [
        "def pet_node(state: PetState) -> PetState:\n",
        "    tool_msg = state.get(\"messages\", [])[-1]\n",
        "    pet_profile = state.get(\"pet_profile\", {})\n",
        "    care = state.get(\"care\", {})\n",
        "    outbound_msgs = []\n",
        "\n",
        "    for tool_call in tool_msg.tool_calls:\n",
        "        if tool_call[\"name\"] == \"set_profile\":\n",
        "            for key, value in tool_call[\"args\"][\"profile\"].items():\n",
        "                pet_profile[key] = value\n",
        "\n",
        "            response = \"\\n\".join(pet_profile)\n",
        "\n",
        "        elif tool_call[\"name\"] == \"update_profile\":\n",
        "            for key, value in tool_call[\"args\"][\"update\"].items():\n",
        "                pet_profile[key] = value;\n",
        "\n",
        "            response = \"\\n\".join(pet_profile)\n",
        "        elif tool_call[\"name\"] == \"update_care\":\n",
        "            for key, value in tool_call[\"args\"][\"update\"].items():\n",
        "                care[key] = value;\n",
        "\n",
        "            response = \"\\n\".join(care)\n",
        "\n",
        "    outbound_msgs.append(\n",
        "        ToolMessage(\n",
        "            content = response,\n",
        "            name=tool_call[\"name\"],\n",
        "            tool_call_id=tool_call[\"id\"]\n",
        "        )\n",
        "    )\n",
        "\n",
        "    return {\"messages\": outbound_msgs, \"pet_profile\": pet_profile, \"care\": care, \"finished\": state.get(\"finished\")}"
      ],
      "metadata": {
        "id": "UpPxoRKu_X56",
        "trusted": true
      },
      "outputs": [],
      "execution_count": null
    },
    {
      "cell_type": "markdown",
      "source": [
        "#### Tools Route\n",
        "`Tools Route` handle moving between tool-human edges based on tool_calls names"
      ],
      "metadata": {
        "id": "B__VqoAmCREW"
      }
    },
    {
      "cell_type": "code",
      "source": [
        "def tools_route(state: PetState) -> str:\n",
        "    \"\"\"Route between human or tool nodes\"\"\"\n",
        "    if not (msgs := state.get(\"messages\", [])):\n",
        "        raise ValueError(f\"No messages found when parsing state: {state}\")\n",
        "\n",
        "    msg =msgs[-1]\n",
        "\n",
        "    if state.get(\"finished\", False):\n",
        "        return END\n",
        "\n",
        "    elif hasattr(msg, \"tool_calls\") and len(msg.tool_calls) > 0:\n",
        "        if any(tool[\"name\"] in search_node.tools_by_name.keys() for tool in msg.tool_calls):\n",
        "            return \"search\"\n",
        "        else:\n",
        "            return \"pet\"\n",
        "    else:\n",
        "        return \"human\""
      ],
      "metadata": {
        "id": "4J89NH-9VmW_",
        "trusted": true
      },
      "outputs": [],
      "execution_count": null
    },
    {
      "cell_type": "markdown",
      "source": [
        "ChatBot with default state values and processing messages"
      ],
      "metadata": {
        "id": "rcSjAZvoCREa"
      }
    },
    {
      "cell_type": "code",
      "source": [
        "def chatbot(state: PetState) -> PetState:\n",
        "    defaults = {\"pet_profile\": {}, \"care\": {}, \"finished\": False}\n",
        "\n",
        "    if state[\"messages\"]:\n",
        "        new_output = llm_with_tools.invoke([ASSISTANT_SYSINT] + state[\"messages\"])\n",
        "    else:\n",
        "        new_output = AIMessage(content=WELCOME_MSG)\n",
        "\n",
        "    return defaults | state | {\"messages\": [new_output]}"
      ],
      "metadata": {
        "id": "r5tOBgcaOn14",
        "trusted": true
      },
      "outputs": [],
      "execution_count": null
    },
    {
      "cell_type": "markdown",
      "source": [
        "## Building graph"
      ],
      "metadata": {
        "id": "YDlDWlKAE4-C"
      }
    },
    {
      "cell_type": "code",
      "source": [
        "from langgraph.prebuilt import ToolNode\n",
        "from IPython.display import Image, display\n",
        "\n",
        "search_tools = [care_guide_search, care_google_search]\n",
        "search_node = ToolNode(search_tools)\n",
        "pet_tools = [set_profile, update_profile, update_care]\n",
        "\n",
        "llm_with_tools = llm.bind_tools(search_tools + pet_tools)\n",
        "\n",
        "graph_builder = StateGraph(PetState)\n",
        "\n",
        "graph_builder.add_node(\"chatbot\", chatbot)\n",
        "graph_builder.add_node(\"human\", human_node)\n",
        "graph_builder.add_node(\"pet\", pet_node)\n",
        "graph_builder.add_node(\"search\", search_node)\n",
        "\n",
        "graph_builder.add_conditional_edges(\"human\", exit_route)\n",
        "graph_builder.add_conditional_edges(\"chatbot\", tools_route)\n",
        "\n",
        "graph_builder.add_edge(START, \"chatbot\")\n",
        "#Tools\n",
        "graph_builder.add_edge(\"search\", \"chatbot\")\n",
        "graph_builder.add_edge(\"pet\", \"chatbot\")\n",
        "\n",
        "chat_graph = graph_builder.compile()\n",
        "\n",
        "Image(chat_graph.get_graph().draw_mermaid_png())"
      ],
      "metadata": {
        "id": "W3TaBqFresXx",
        "outputId": "42864147-a8f3-4d24-b4a1-8f4e18eaceb1",
        "trusted": true,
        "colab": {
          "base_uri": "https://localhost:8080/",
          "height": 350
        }
      },
      "outputs": [
        {
          "output_type": "execute_result",
          "data": {
            "image/png": "[encoded data removed]",
            "text/plain": [
              "<IPython.core.display.Image object>"
            ]
          },
          "metadata": {},
          "execution_count": 53
        }
      ],
      "execution_count": null
    },
    {
      "cell_type": "markdown",
      "source": [
        "## 💡 Result Example"
      ],
      "metadata": {
        "id": "R0-d1y10CREa"
      }
    },
    {
      "cell_type": "code",
      "source": [
        "# Uncomment line with invoke to test by yourself\n",
        "# You can use this test data for pet profile:\n",
        "# Luna is a lively three-year-old female Border Collie. She weighs 15.2 kg and has a high activity level – she loves long walks and playing with frisbees. She has been spayed and is generally healthy, although she has a mild allergy to chicken.\n",
        "\n",
        "config = {\"recursion_limit\": 100}\n",
        "state = chat_graph.invoke({\"messages\": []}, config)"
      ],
      "metadata": {
        "id": "jtio8mV-esXx",
        "trusted": true,
        "outputId": "802d725d-f8da-4729-fd37-02b86e77caf5",
        "colab": {
          "base_uri": "https://localhost:8080/"
        }
      },
      "outputs": [
        {
          "output_type": "stream",
          "name": "stdout",
          "text": [
            "Model: Hi, I’m Pet Care Assistant Bot (Type ‘q’ to quit).\n",
            "Please tell me about your pet and I’ll help you create a personalized care plan and suggestions to keep them happy and healthy!\n",
            "User: Luna is a lively three-year-old female Border Collie. She weighs 15.2 kg and has a high activity level – she loves long walks and playing with frisbees. She has been spayed and is generally healthy, although she has a mild allergy to chicken.\n",
            "Model: OK, I've created a profile for Luna. What would you like to do next? For example, I can help with diet, health, or activity plans.\n",
            "User: make diet plan\n",
            "Model: To create a suitable diet plan for Luna, here are some guidelines to consider:\n",
            "\n",
            "Adult dogs need 95 to 130 kilocalories per kilogram of metabolic body weight each day, but this can change based on her size, breed, activity level, and whether she is spayed.\n",
            "A Border Collie that is moderately active and spayed might need about 800 to 950 kcal per day.\n",
            "If Luna is a working dog and not spayed, she might need between 1,100 to 1,400 kcal per day.\n",
            "Spayed dogs usually need 20–25% fewer calories because of hormone changes that affect their metabolism and appetite.\n",
            "\n",
            "To keep Luna from gaining too much weight, adjust how much she eats.\n",
            "Choose foods that are lower in fat (8–12% dry matter), high in protein (above 22–25% dry matter), and include fiber (2.5–5%) to help her feel full.\n",
            "Most adult dogs should eat two meals a day.\n",
            "However, large and deep-chested breeds should have their food divided into multiple smaller meals to avoid bloat, with rest before and after eating.\n",
            "\n",
            "Make sure Luna drinks about 50–60 ml of water per kilogram of her body weight each day, so a 20 kg dog should drink 1–1.2 liters daily.\n",
            "If Luna eats wet food (75–80% moisture), that will help with hydration, but if she eats dry food (8–10% moisture), always have clean water available.\n",
            "She will need more water in hot weather or if she is very active.\n",
            "Dry food usually has 350–450 kcal per 100g, while wet food has 70–100 kcal per 100g.\n",
            "\n",
            "When deciding how much to feed her, think about her activity level and body condition.\n",
            "Giving too much dry kibble is a common reason for weight gain.\n",
            "\n",
            "Luna's diet should include:\n",
            "\n",
            "18–25% protein (dry matter), with more for active dogs.\n",
            "8–15% fat (dry matter), up to 20% for active dogs.\n",
            "30–50% carbohydrates (dry matter), including starches and fiber.\n",
            "2–5% fiber to help with digestion.\n",
            "\n",
            "She also needs essential micronutrients like calcium (1–2%), phosphorus (0.8–1.6%), vitamin E (minimum 50 IU/kg), vitamin D (minimum 500 IU/kg), B-vitamins, and omega-3 fatty acids from fish oil.\n",
            "Commercial dog foods that meet AAFCO or FEDIAF standards should have these in the right amounts.\n",
            "\n",
            "To prevent Luna from becoming overweight, control her portions, give her low-calorie treats (less than 10% of her daily calories), and make sure she gets at least 30 minutes of exercise each day.\n",
            "If she needs to lose weight, reduce her food intake to 70% of what she needs to maintain her current weight and check her body condition regularly.\n",
            "\n",
            "If Luna has any health issues, like diabetes, kidney disease, or food allergies, she might need a special diet prescribed by a vet.\n",
            "When changing her food, do it slowly over 5–7 days to avoid upsetting her stomach.\n",
            "\n",
            "Never feed Luna chocolate, onions, garlic, grapes, raisins, alcohol, caffeine, xylitol, or cooked bones, as these are dangerous for dogs.\n",
            "Also, be careful with high-fat table scraps, as they can cause pancreatitis, and limit dairy, as some adult dogs don't tolerate it well.\n",
            "\n",
            "Keep an eye on Luna's stool quality, coat condition, and weight to make sure she is getting the right nutrition.\n",
            "Adjust her diet as needed, based on regular check-ups and advice from your vet or a certified nutritionist.\n",
            "User: now i need activity \n",
            "Model: For Luna the Border Collie, who is a highly active breed, you will want to focus on vigorous exercise.\n",
            "\n",
            "Long runs will help keep her in shape.\n",
            "\n",
            "Fetch is a great way to let her run and burn off energy.\n",
            "\n",
            "Agility training will challenge her both mentally and physically.\n",
            "\n",
            "Herding or pulling activities (if she's a working breed) can also be beneficial.\n",
            "User: any suggestions about nail cutting?\n",
            "Model: Here's a structured list guide about nail cutting for dogs:\n",
            "\n",
            "1. Get Your Dog Comfortable\n",
            "\n",
            "* Start by touching and massaging your dog's paws and legs regularly to make them comfortable with being handled.\n",
            "* Introduce the nail clipper or grinder by letting your dog sniff it, then touching it to their paws, rewarding them with treats and praise.\n",
            "* Practice squeezing a toe to isolate the nail for clipping, giving a treat after each repetition.\n",
            "* Replicate the sound of the clippers by using them on dried pasta to get your dog used to the noise.\n",
            "\n",
            "2. Choose the Right Tools\n",
            "\n",
            "* Use dog nail trimmers; human nail trimmers won't work. Scissor-style trimmers are often the easiest to use.\n",
            "* Consider a nail grinder for a safer alternative. Buy a quieter or adjustable speed nail grinder to help your pet get used to the sound and sensation.\n",
            "* Keep styptic powder or cornstarch on hand to stop bleeding if you accidentally cut the quick.\n",
            "\n",
            "3. Identify the Quick\n",
            "\n",
            "* The quick is the pink area inside the nail containing nerves and blood vessels.\n",
            "* For clear nails, you can easily see the quick. Aim to cut a few millimeters ahead of it.\n",
            "* For black nails, trim small amounts at a time. Look for a white circle with a softer, flaky interior (horn) as you cut back the nail. A small black dot appearing in the nail's center indicates you're near the quick.\n",
            "\n",
            "4. Nail Trimming Techniques\n",
            "\n",
            "* Hold your dog's paw firmly but gently, ensuring no fur is in the way.\n",
            "* Extend the nail by placing your thumb on the pad of the toe and your forefinger on top of the toe, pushing your thumb slightly up and backward while pushing your forefinger forward.\n",
            "* Cut only the tip of the nail, straight across. Avoid cutting past the curve of the nail to prevent hitting the quick.\n",
            "* Trim the thinner, pointy outer part of the nail rather than the thick nail bed.\n",
            "* Cut the nail vertically, following its natural angle (about 45 degrees).\n",
            "* If you're using clippers, rotate them, so the blades cut from the top to the bottom surfaces of the nail, rather than from side to side, to avoid squeezing the quick.\n",
            "* If using a grinder, hold it closer to the rotating head and stabilize it on your finger or hand to minimize vibration. Grind for only a few seconds at a time to prevent heat buildup.\n",
            "\n",
            "5. Step-by-Step Guide\n",
            "\n",
            "* Choose a comfortable, well-lit area.\n",
            "* Have high-value treats ready.\n",
            "* Hold the paw gently, isolating one toe at a time.\n",
            "* Trim a very small amount off the end of the nail.\n",
            "* Reward your dog with treats and praise immediately.\n",
            "* Gradually build up to trimming more nails at a time.\n",
            "\n",
            "6. Dealing with Dewclaws\n",
            "\n",
            "* Don't forget to trim the dewclaws, which are located on the inner side of the paw.\n",
            "* Dewclaws don't contact the ground, so they often become overgrown.\n",
            "\n",
            "7. If You Cut the Quick\n",
            "\n",
            "* If you accidentally cut into the quick, apply styptic powder or cornstarch to stop the bleeding.\n",
            "\n",
            "8. Post-Trimming Care\n",
            "\n",
            "* Use a nail file to smooth any burrs or jagged edges.\n",
            "\n",
            "9. Tips for Anxious Dogs\n",
            "\n",
            "* If your dog is stressed, do not proceed with the nail trim.\n",
            "* Give your dog treats whenever you grab the nail trimmer to create a positive association.\n",
            "* Start by trimming just a few nails per session.\n",
            "* Keep your dog in a natural position, avoiding lifting the leg out of its normal range of motion.\n",
            "* Consider having someone help you to keep your dog calm and still.\n",
            "\n",
            "10. Professional Help\n",
            "\n",
            "* If you're uncomfortable trimming your dog's nails, consult your vet or a professional groomer.\n",
            "* Ask your vet to give you a lesson on proper clipping techniques.\n",
            "User: thanks, please send me full care plan\n",
            "Model: Your Pet Profile:\n",
            "species: dog\n",
            "breed: Border Collie\n",
            "age: 3\n",
            "name: Luna\n",
            "weight: 15.2\n",
            "gender: female\n",
            "neutered: True\n",
            "activity_level: high\n",
            "health_conditions: ['chicken allergy']\n",
            "notes: \n",
            "\n",
            "Diet:\n",
            "To create a suitable diet plan for Luna, here are some guidelines to consider:\n",
            "\n",
            "Adult dogs need 95 to 130 kilocalories per kilogram of metabolic body weight each day, but this can change based on her size, breed, activity level, and whether she is spayed.\n",
            "A Border Collie that is moderately active and spayed might need about 800 to 950 kcal per day.\n",
            "If Luna is a working dog and not spayed, she might need between 1,100 to 1,400 kcal per day.\n",
            "Spayed dogs usually need 20–25% fewer calories because of hormone changes that affect their metabolism and appetite.\n",
            "\n",
            "To keep Luna from gaining too much weight, adjust how much she eats.\n",
            "Choose foods that are lower in fat (8–12% dry matter), high in protein (above 22–25% dry matter), and include fiber (2.5–5%) to help her feel full.\n",
            "Most adult dogs should eat two meals a day.\n",
            "However, large and deep-chested breeds should have their food divided into multiple smaller meals to avoid bloat, with rest before and after eating.\n",
            "\n",
            "Make sure Luna drinks about 50–60 ml of water per kilogram of her body weight each day, so a 20 kg dog should drink 1–1.2 liters daily.\n",
            "If Luna eats wet food (75–80% moisture), that will help with hydration, but if she eats dry food (8–10% moisture), always have clean water available.\n",
            "She will need more water in hot weather or if she is very active.\n",
            "Dry food usually has 350–450 kcal per 100g, while wet food has 70–100 kcal per 100g.\n",
            "\n",
            "When deciding how much to feed her, think about her activity level and body condition.\n",
            "Giving too much dry kibble is a common reason for weight gain.\n",
            "\n",
            "Luna's diet should include:\n",
            "\n",
            "18–25% protein (dry matter), with more for active dogs.\n",
            "8–15% fat (dry matter), up to 20% for active dogs.\n",
            "30–50% carbohydrates (dry matter), including starches and fiber.\n",
            "2–5% fiber to help with digestion.\n",
            "\n",
            "She also needs essential micronutrients like calcium (1–2%), phosphorus (0.8–1.6%), vitamin E (minimum 50 IU/kg), vitamin D (minimum 500 IU/kg), B-vitamins, and omega-3 fatty acids from fish oil.\n",
            "Commercial dog foods that meet AAFCO or FEDIAF standards should have these in the right amounts.\n",
            "\n",
            "To prevent Luna from becoming overweight, control her portions, give her low-calorie treats (less than 10% of her daily calories), and make sure she gets at least 30 minutes of exercise each day.\n",
            "If she needs to lose weight, reduce her food intake to 70% of what she needs to maintain her current weight and check her body condition regularly.\n",
            "\n",
            "If Luna has any health issues, like diabetes, kidney disease, or food allergies, she might need a special diet prescribed by a vet.\n",
            "When changing her food, do it slowly over 5–7 days to avoid upsetting her stomach.\n",
            "\n",
            "Never feed Luna chocolate, onions, garlic, grapes, raisins, alcohol, caffeine, xylitol, or cooked bones, as these are dangerous for dogs.\n",
            "Also, be careful with high-fat table scraps, as they can cause pancreatitis, and limit dairy, as some adult dogs don't tolerate it well.\n",
            "\n",
            "Keep an eye on Luna's stool quality, coat condition, and weight to make sure she is getting the right nutrition.\n",
            "Adjust her diet as needed, based on regular check-ups and advice from your vet or a certified nutritionist.\n",
            "\n",
            "Activity:\n",
            "For Luna the Border Collie, who is a highly active breed, you will want to focus on vigorous exercise.\n",
            "\n",
            "Long runs will help keep her in shape.\n",
            "\n",
            "Fetch is a great way to let her run and burn off energy.\n",
            "\n",
            "Agility training will challenge her both mentally and physically.\n",
            "\n",
            "Herding or pulling activities (if she's a working breed) can also be beneficial.\n",
            "\n",
            "Suggestions:\n",
            "Here's a structured list guide about nail cutting for dogs:\n",
            "\n",
            "1. Get Your Dog Comfortable\n",
            "\n",
            "* Start by touching and massaging your dog's paws and legs regularly to make them comfortable with being handled.\n",
            "* Introduce the nail clipper or grinder by letting your dog sniff it, then touching it to their paws, rewarding them with treats and praise.\n",
            "* Practice squeezing a toe to isolate the nail for clipping, giving a treat after each repetition.\n",
            "* Replicate the sound of the clippers by using them on dried pasta to get your dog used to the noise.\n",
            "\n",
            "2. Choose the Right Tools\n",
            "\n",
            "* Use dog nail trimmers; human nail trimmers won't work. Scissor-style trimmers are often the easiest to use.\n",
            "* Consider a nail grinder for a safer alternative. Buy a quieter or adjustable speed nail grinder to help your pet get used to the sound and sensation.\n",
            "* Keep styptic powder or cornstarch on hand to stop bleeding if you accidentally cut the quick.\n",
            "\n",
            "3. Identify the Quick\n",
            "\n",
            "* The quick is the pink area inside the nail containing nerves and blood vessels.\n",
            "* For clear nails, you can easily see the quick. Aim to cut a few millimeters ahead of it.\n",
            "* For black nails, trim small amounts at a time. Look for a white circle with a softer, flaky interior (horn) as you cut back the nail. A small black dot appearing in the nail's center indicates you're near the quick.\n",
            "\n",
            "4. Nail Trimming Techniques\n",
            "\n",
            "* Hold your dog's paw firmly but gently, ensuring no fur is in the way.\n",
            "* Extend the nail by placing your thumb on the pad of the toe and your forefinger on top of the toe, pushing your thumb slightly up and backward while pushing your forefinger forward.\n",
            "* Cut only the tip of the nail, straight across. Avoid cutting past the curve of the nail to prevent hitting the quick.\n",
            "* Trim the thinner, pointy outer part of the nail rather than the thick nail bed.\n",
            "* Cut the nail vertically, following its natural angle (about 45 degrees).\n",
            "* If you're using clippers, rotate them, so the blades cut from the top to the bottom surfaces of the nail, rather than from side to side, to avoid squeezing the quick.\n",
            "* If using a grinder, hold it closer to the rotating head and stabilize it on your finger or hand to minimize vibration. Grind for only a few seconds at a time to prevent heat buildup.\n",
            "\n",
            "5. Step-by-Step Guide\n",
            "\n",
            "* Choose a comfortable, well-lit area.\n",
            "* Have high-value treats ready.\n",
            "* Hold the paw gently, isolating one toe at a time.\n",
            "* Trim a very small amount off the end of the nail.\n",
            "* Reward your dog with treats and praise immediately.\n",
            "* Gradually build up to trimming more nails at a time.\n",
            "\n",
            "6. Dealing with Dewclaws\n",
            "\n",
            "* Don't forget to trim the dewclaws, which are located on the inner side of the paw.\n",
            "* Dewclaws don't contact the ground, so they often become overgrown.\n",
            "\n",
            "7. If You Cut the Quick\n",
            "\n",
            "* If you accidentally cut into the quick, apply styptic powder or cornstarch to stop the bleeding.\n",
            "\n",
            "8. Post-Trimming Care\n",
            "\n",
            "* Use a nail file to smooth any burrs or jagged edges.\n",
            "\n",
            "9. Tips for Anxious Dogs\n",
            "\n",
            "* If your dog is stressed, do not proceed with the nail trim.\n",
            "* Give your dog treats whenever you grab the nail trimmer to create a positive association.\n",
            "* Start by trimming just a few nails per session.\n",
            "* Keep your dog in a natural position, avoiding lifting the leg out of its normal range of motion.\n",
            "* Consider having someone help you to keep your dog calm and still.\n",
            "\n",
            "10. Professional Help\n",
            "\n",
            "* If you're uncomfortable trimming your dog's nails, consult your vet or a professional groomer.\n",
            "* Ask your vet to give you a lesson on proper clipping techniques.\n"
          ]
        }
      ],
      "execution_count": null
    }
  ]
}